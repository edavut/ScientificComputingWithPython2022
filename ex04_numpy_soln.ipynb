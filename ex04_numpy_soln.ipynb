{
 "cells": [
  {
   "cell_type": "markdown",
   "metadata": {},
   "source": [
    "1\\. **Reductions**\n",
    "\n",
    "Find the total mean, and the mean for each row and column of the following matrix:\n",
    "\n",
    "```python\n",
    "m = np.arange(12).reshape((3,4))\n",
    "```"
   ]
  },
  {
   "cell_type": "code",
   "execution_count": 8,
   "metadata": {},
   "outputs": [
    {
     "name": "stdout",
     "output_type": "stream",
     "text": [
      "[[ 0  1  2  3]\n",
      " [ 4  5  6  7]\n",
      " [ 8  9 10 11]]\n",
      "\n",
      " Total mean of the array: 5.5\n",
      "\n",
      "Mean of the rows of the array: \n",
      "[1.5 5.5 9.5]\n",
      "\n",
      "Mean of the columns of the array: \n",
      "[4. 5. 6. 7.]\n",
      "\n"
     ]
    }
   ],
   "source": [
    "import numpy as np\n",
    "\n",
    "m = np.arange(12).reshape((3,4))\n",
    "total_mean = np.mean(m)\n",
    "row_mean = np.mean(m, axis=1)\n",
    "column_mean = np.mean(m, axis=0)\n",
    "\n",
    "print(m)\n",
    "print(\"\\n Total mean of the array: \" + str(total_mean) + \"\\n\")\n",
    "print(\"Mean of the rows of the array: \\n\" + str(row_mean) + \"\\n\")\n",
    "print(\"Mean of the columns of the array: \\n\" + str(column_mean) + \"\\n\")"
   ]
  },
  {
   "cell_type": "code",
   "execution_count": null,
   "metadata": {},
   "outputs": [],
   "source": []
  },
  {
   "cell_type": "markdown",
   "metadata": {},
   "source": [
    "2\\. **Outer product**\n",
    "\n",
    "Find the outer product of the following vectors:\n",
    "\n",
    "```python\n",
    "u = np.array([1, 3, 5, 7])\n",
    "v = np.array([2, 4, 6, 8])\n",
    "```\n",
    "\n",
    "Use different methods to do this:\n",
    "\n",
    "   1. Using the function `outer` in numpy\n",
    "   2. Using a nested `for` loop or a list comprehension\n",
    "   3. Using numpy broadcasting operations"
   ]
  },
  {
   "cell_type": "code",
   "execution_count": 4,
   "metadata": {},
   "outputs": [
    {
     "name": "stdout",
     "output_type": "stream",
     "text": [
      "Using the function outer in numpy: \n",
      "[[ 2  4  6  8]\n",
      " [ 6 12 18 24]\n",
      " [10 20 30 40]\n",
      " [14 28 42 56]]\n",
      "\n",
      "Using a nested for loop or a list comprehension: \n",
      "[2, 4, 6, 8, 6, 12, 18, 24, 10, 20, 30, 40, 14, 28, 42, 56]\n",
      "\n",
      "Using numpy broadcasting operations: \n",
      "[[ 2  4  6  8]\n",
      " [ 6 12 18 24]\n",
      " [10 20 30 40]\n",
      " [14 28 42 56]]\n",
      "\n"
     ]
    }
   ],
   "source": [
    "u = np.array([1, 3, 5, 7])\n",
    "v = np.array([2, 4, 6, 8])\n",
    "\n",
    "outer = np.outer(u,v)\n",
    "nested_for = [i * j for i in u for j in v]\n",
    "broadcast = u[:, None]*v\n",
    "\n",
    "print(\"Using the function outer in numpy: \\n\" + str(outer) + \"\\n\")\n",
    "print(\"Using a nested for loop or a list comprehension: \\n\" + str(nested_for) + \"\\n\")\n",
    "print(\"Using numpy broadcasting operations: \\n\" + str(broadcast) + \"\\n\")"
   ]
  },
  {
   "cell_type": "code",
   "execution_count": null,
   "metadata": {},
   "outputs": [],
   "source": []
  },
  {
   "cell_type": "markdown",
   "metadata": {},
   "source": [
    "3\\. **Matrix masking**\n",
    "\n",
    "Create a 10 by 6 matrix of float random numbers, distributed between 0 and 3 according to a flat distribution.\n",
    "\n",
    "After creating the matrix, set all entries $< 0.3$ to zero using a mask."
   ]
  },
  {
   "cell_type": "code",
   "execution_count": 5,
   "metadata": {},
   "outputs": [
    {
     "name": "stdout",
     "output_type": "stream",
     "text": [
      "[[0.32446914 1.537318   1.29093876 2.63856271 2.15595853 1.4075677 ]\n",
      " [2.25112148 0.90479695 2.99604829 1.49673658 2.09430608 1.1140739 ]\n",
      " [1.76465445 2.9839693  1.65432315 0.39598876 2.35655929 2.58719886]\n",
      " [2.30187437 2.90512688 1.04858551 2.17723736 1.19161966 0.76185404]\n",
      " [2.54724449 2.10715049 0.46801362 0.         0.66380422 0.        ]\n",
      " [0.6992338  1.41632998 0.         1.05851884 0.59379899 0.87079403]\n",
      " [2.5237227  1.15454023 0.         2.66762502 1.61291772 1.38617387]\n",
      " [0.85630132 2.23304535 2.30472652 1.96101663 0.74247032 1.0913148 ]\n",
      " [0.49028469 1.8408923  1.92615048 2.81654818 2.82865557 2.32756802]\n",
      " [1.70887224 1.45222253 2.60384408 2.43983714 2.58060436 0.        ]]\n"
     ]
    }
   ],
   "source": [
    "import numpy.random as npr\n",
    "\n",
    "matris = npr.uniform(0.0, 3.0, size=(10, 6))\n",
    "matris[matris<0.3] = 0\n",
    "print(matris)"
   ]
  },
  {
   "cell_type": "markdown",
   "metadata": {},
   "source": [
    "4\\. **Trigonometric functions**\n",
    "\n",
    "Use `np.linspace` to create an array of 100 numbers between $0$ and $2\\pi$ (inclusive).\n",
    "\n",
    "  * Extract every 10th element using the slice notation\n",
    "  * Reverse the array using the slice notation\n",
    "  * Extract elements where the absolute difference between the `sin` and `cos` functions evaluated for that element is $< 0.1$\n",
    "  * **Optional**: make a plot showing the sin and cos functions and indicate where they are close"
   ]
  },
  {
   "cell_type": "code",
   "execution_count": 9,
   "metadata": {},
   "outputs": [
    {
     "name": "stdout",
     "output_type": "stream",
     "text": [
      "Extract every 10th element using the slice notation: \n",
      "[0.57119866 1.20586385 1.84052903 2.47519421 3.10985939 3.74452458\n",
      " 4.37918976 5.01385494 5.64852012 6.28318531]\n",
      "\n",
      "Reverse the array using the slice notation \n",
      "[6.28318531 6.21971879 6.15625227 6.09278575 6.02931923 5.96585272\n",
      " 5.9023862  5.83891968 5.77545316 5.71198664 5.64852012 5.58505361\n",
      " 5.52158709 5.45812057 5.39465405 5.33118753 5.26772102 5.2042545\n",
      " 5.14078798 5.07732146 5.01385494 4.95038842 4.88692191 4.82345539\n",
      " 4.75998887 4.69652235 4.63305583 4.56958931 4.5061228  4.44265628\n",
      " 4.37918976 4.31572324 4.25225672 4.1887902  4.12532369 4.06185717\n",
      " 3.99839065 3.93492413 3.87145761 3.8079911  3.74452458 3.68105806\n",
      " 3.61759154 3.55412502 3.4906585  3.42719199 3.36372547 3.30025895\n",
      " 3.23679243 3.17332591 3.10985939 3.04639288 2.98292636 2.91945984\n",
      " 2.85599332 2.7925268  2.72906028 2.66559377 2.60212725 2.53866073\n",
      " 2.47519421 2.41172769 2.34826118 2.28479466 2.22132814 2.15786162\n",
      " 2.0943951  2.03092858 1.96746207 1.90399555 1.84052903 1.77706251\n",
      " 1.71359599 1.65012947 1.58666296 1.52319644 1.45972992 1.3962634\n",
      " 1.33279688 1.26933037 1.20586385 1.14239733 1.07893081 1.01546429\n",
      " 0.95199777 0.88853126 0.82506474 0.76159822 0.6981317  0.63466518\n",
      " 0.57119866 0.50773215 0.44426563 0.38079911 0.31733259 0.25386607\n",
      " 0.19039955 0.12693304 0.06346652 0.        ]\n",
      "\n",
      "sin and cos functions evaluated for that element is <0.1: \n",
      "[0.76159822 0.82506474 3.87145761 3.93492413]\n",
      "\n",
      "Optional: \n",
      "\n"
     ]
    },
    {
     "data": {
      "image/png": "[encoded data removed]",
      "text/plain": [
       "<Figure size 432x288 with 1 Axes>"
      ]
     },
     "metadata": {
      "needs_background": "light"
     },
     "output_type": "display_data"
    }
   ],
   "source": [
    "import math\n",
    "import matplotlib.pyplot as plt\n",
    "%matplotlib inline \n",
    "\n",
    "array = np.linspace(0, 2*math.pi, num=100, endpoint=True, retstep=False, dtype=None, axis=0)\n",
    "sliced = array[9::10]\n",
    "reverse = array[::-1]\n",
    "condition = array[abs(np.sin(array) - np.cos(array)) < 0.1]\n",
    "\n",
    "print(\"Extract every 10th element using the slice notation: \" + \"\\n\" + str(sliced) + \"\\n\")\n",
    "print(\"Reverse the array using the slice notation \" + \"\\n\" + str(reverse) + \"\\n\")\n",
    "print(\"sin and cos functions evaluated for that element is <0.1: \" + \"\\n\" + str(condition) + \"\\n\")\n",
    "\n",
    "y_sin = np.sin(array)\n",
    "y_cos = np.cos(array)\n",
    "print(\"Optional: \" + \"\\n\")\n",
    "plt.plot(array, y_sin, array, y_cos)\n",
    "plt.show()"
   ]
  },
  {
   "cell_type": "code",
   "execution_count": null,
   "metadata": {},
   "outputs": [],
   "source": []
  },
  {
   "cell_type": "markdown",
   "metadata": {},
   "source": [
    "5\\. **Matrices**\n",
    "\n",
    "Create a matrix that shows the 10 by 10 multiplication table.\n",
    "\n",
    " * Find the trace of the matrix\n",
    " * Extract the anti-diagonal matrix (this should be ```array([10, 18, 24, 28, 30, 30, 28, 24, 18, 10])```)\n",
    " * Extract the diagonal offset by 1 upwards (this should be ```array([ 2,  6, 12, 20, 30, 42, 56, 72, 90])```)"
   ]
  },
  {
   "cell_type": "code",
   "execution_count": 11,
   "metadata": {},
   "outputs": [
    {
     "name": "stdout",
     "output_type": "stream",
     "text": [
      "Trace of the matrix: \n",
      "385.0\n",
      "Anti-diagonal matrix \n",
      "[10. 18. 24. 28. 30. 30. 28. 24. 18. 10.]\n",
      "Offset-diagonal matrix \n",
      "[ 2.  6. 12. 20. 30. 42. 56. 72. 90.]\n"
     ]
    }
   ],
   "source": [
    "matrix = np.zeros((10,10))\n",
    "mask2 = np.zeros((10,10), dtype = bool)\n",
    "\n",
    "for i in range(10):\n",
    "    for j in range(10):\n",
    "        matrix[i,j] = (i+1) * (j+1)\n",
    "        \n",
    "print(\"Trace of the matrix: \" + \"\\n\" + str(np.trace(matrix)))\n",
    "\n",
    "mask = np.fliplr(np.eye(10,10) == 1)\n",
    "antiDiagonal = matrix[mask]\n",
    "\n",
    "print(\"Anti-diagonal matrix \" + \"\\n\" + str(antiDiagonal))\n",
    "\n",
    "for i in range(10):\n",
    "    for j in range(10):\n",
    "        if (i+1 > 9) or (j+1 > 9):\n",
    "                break\n",
    "        elif i == j:\n",
    "            mask2[i, j+1] = 1\n",
    "\n",
    "offsetDiagonal = matrix[mask2]\n",
    "print(\"Offset-diagonal matrix \" + \"\\n\" + str(offsetDiagonal))"
   ]
  },
  {
   "cell_type": "code",
   "execution_count": null,
   "metadata": {},
   "outputs": [],
   "source": []
  },
  {
   "cell_type": "markdown",
   "metadata": {},
   "source": [
    "6\\. **Broadcasting**\n",
    "\n",
    "Use broadcasting to create a grid of distances.\n",
    "\n",
    "Route 66 crosses the following cities in the US: Chicago, Springfield, Saint-Louis, Tulsa, Oklahoma City, Amarillo, Santa Fe, Albuquerque, Flagstaff, Los Angeles.\n",
    "\n",
    "The corresponding positions in miles are: 0, 198, 303, 736, 871, 1175, 1475, 1544, 1913, 2448\n",
    "\n",
    "  * Build a 2D grid of distances among each city along Route 66\n",
    "  * Convert the distances in km"
   ]
  },
  {
   "cell_type": "code",
   "execution_count": 12,
   "metadata": {},
   "outputs": [
    {
     "name": "stdout",
     "output_type": "stream",
     "text": [
      "Distance in miles: [0, 198, 303, 736, 871, 1175, 1475, 1544, 1913, 2448]\n",
      "Distance in km: [0.0, 123.03149606299212, 188.27547124791218, 457.3291974866778, 541.2143084387178, 730.1111508788674, 916.5225085500675, 959.3971208144436, 1188.6830907500198, 1521.1166785969936]\n"
     ]
    },
    {
     "data": {
      "image/png": "[encoded data removed]",
      "text/plain": [
       "<Figure size 432x288 with 1 Axes>"
      ]
     },
     "metadata": {
      "needs_background": "light"
     },
     "output_type": "display_data"
    }
   ],
   "source": [
    "route66_cities = [\"CHI\", \"SF\", \"STL\", \"TUL\", \"OKC\", \"AMA\", \"SFE\", \"ALB\", \"FLS\", \"LA\"]\n",
    "route66_pos_in_miles = [0, 198, 303, 736, 871, 1175, 1475, 1544, 1913, 2448]\n",
    "route66_pos_in_kms = [i/1.609344 for i in route66_pos_in_miles]\n",
    "\n",
    "print(\"Distance in miles: \" + str(route66_pos_in_miles))\n",
    "print(\"Distance in km: \" + str(route66_pos_in_kms))\n",
    "\n",
    "plt.plot(route66_cities, route66_pos_in_miles)\n",
    "plt.show()"
   ]
  },
  {
   "cell_type": "code",
   "execution_count": null,
   "metadata": {},
   "outputs": [],
   "source": []
  },
  {
   "cell_type": "markdown",
   "metadata": {},
   "source": [
    "7\\. **Prime numbers sieve**\n",
    "\n",
    "Compute the prime numbers in the 0-N (start with N=99) range with a sieve (mask).\n",
    "\n",
    "  * Constract a shape (N,) boolean array, which is the mask\n",
    "  * Identify the multiples of each number starting from 2 and set accordingly the corresponding mask element\n",
    "  * Apply the mask to obtain an array of ordered prime numbers\n",
    "  * Check the performances (with `timeit`); how does it scale with N?\n",
    "  * Implement the optimization suggested in the [sieve of Eratosthenes](https://en.wikipedia.org/wiki/Sieve_of_Eratosthenes)"
   ]
  },
  {
   "cell_type": "code",
   "execution_count": 13,
   "metadata": {},
   "outputs": [
    {
     "name": "stdout",
     "output_type": "stream",
     "text": [
      "2\n",
      "3\n",
      "5\n",
      "7\n",
      "11\n",
      "13\n",
      "17\n",
      "19\n",
      "23\n",
      "29\n",
      "31\n",
      "37\n",
      "41\n",
      "43\n",
      "47\n",
      "53\n",
      "59\n",
      "61\n",
      "67\n",
      "71\n",
      "73\n",
      "79\n",
      "83\n",
      "89\n",
      "97\n",
      "Duration: 0.0026635020003595855\n"
     ]
    }
   ],
   "source": [
    "import timeit\n",
    "\n",
    "start_time = timeit.default_timer()\n",
    "N = 99\n",
    "sieve = np.ones((N, ), dtype=bool)\n",
    "p = 2\n",
    "\n",
    "while (p*p<=N):\n",
    "    \n",
    "    if (sieve[p] == True):\n",
    "        \n",
    "        for i in range(p * p, N, p):\n",
    "            \n",
    "            sieve[i] = False\n",
    "            \n",
    "    p = p+1\n",
    "\n",
    "    \n",
    "for p in range(2, N):\n",
    "    \n",
    "    if sieve[p] == True:\n",
    "        \n",
    "        print(p)\n",
    "    \n",
    "duration = timeit.default_timer() - start_time\n",
    "print(\"Duration: \" + str(duration))"
   ]
  },
  {
   "cell_type": "code",
   "execution_count": null,
   "metadata": {},
   "outputs": [],
   "source": []
  },
  {
   "cell_type": "markdown",
   "metadata": {},
   "source": [
    "8\\. **Diffusion using random walk**\n",
    "\n",
    "Consider a simple random walk process: at each step in time, a walker jumps right or left (+1 or -1) with equal probability. The goal is to find the typical distance from the origin of many random walkers after a given amount of time.\n",
    "\n",
    "*Hint*: create a 2D array where each row represents a walker, and each column represents a time step.\n",
    "\n",
    "  * Take 1000 walkers and let them walk for 200 steps\n",
    "  * Use `randint` to create a 2D array of size $walkers \\times steps$ with values -1 or 1\n",
    "  * Calculate the walking distances for each walker (e.g. by summing the elements in each row)\n",
    "  * Take the square of the previously-obtained array (element-wise)\n",
    "  * Compute the mean of the squared distances at each step (i.e. the mean along the columns)\n",
    "  * **Optional**: plot the average distances ($\\sqrt(distance^2)$) as a function of time (step)"
   ]
  },
  {
   "cell_type": "code",
   "execution_count": 14,
   "metadata": {},
   "outputs": [
    {
     "data": {
      "image/png": "[encoded data removed]",
      "text/plain": [
       "<Figure size 432x288 with 1 Axes>"
      ]
     },
     "metadata": {
      "needs_background": "light"
     },
     "output_type": "display_data"
    }
   ],
   "source": [
    "array = npr.choice([-1, 1], size=(1000, 200))\n",
    "row_sum = np.sum(array, axis=1)\n",
    "squareOfPosition = row_sum**2\n",
    "column_mean = np.mean(array, axis=0)\n",
    "distance = np.sqrt(column_mean**2)\n",
    "plt.plot(distance)\n",
    "plt.show()"
   ]
  },
  {
   "cell_type": "code",
   "execution_count": null,
   "metadata": {},
   "outputs": [],
   "source": []
  }
 ],
 "metadata": {
  "kernelspec": {
   "display_name": "Python 3",
   "language": "python",
   "name": "python3"
  },
  "language_info": {
   "codemirror_mode": {
    "name": "ipython",
    "version": 3
   },
   "file_extension": ".py",
   "mimetype": "text/x-python",
   "name": "python",
   "nbconvert_exporter": "python",
   "pygments_lexer": "ipython3",
   "version": "3.8.10"
  }
 },
 "nbformat": 4,
 "nbformat_minor": 2
}
