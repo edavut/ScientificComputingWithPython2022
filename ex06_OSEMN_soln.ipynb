{
 "cells": [
  {
   "cell_type": "code",
   "execution_count": 12,
   "metadata": {},
   "outputs": [],
   "source": [
    "import pandas as pd\n",
    "import numpy as np"
   ]
  },
  {
   "cell_type": "code",
   "execution_count": 3,
   "metadata": {},
   "outputs": [
    {
     "name": "stdout",
     "output_type": "stream",
     "text": [
      "--2022-11-29 12:32:15--  https://www.dropbox.com/s/ebe1cnyd2gm836a/populations.txt\n",
      "Resolving www.dropbox.com (www.dropbox.com)... 162.125.69.18, 2620:100:6025:18::a27d:4512\n",
      "Connecting to www.dropbox.com (www.dropbox.com)|162.125.69.18|:443... connected.\n",
      "HTTP request sent, awaiting response... 302 Found\n",
      "Location: /s/raw/ebe1cnyd2gm836a/populations.txt [following]\n",
      "--2022-11-29 12:32:15--  https://www.dropbox.com/s/raw/ebe1cnyd2gm836a/populations.txt\n",
      "Reusing existing connection to www.dropbox.com:443.\n",
      "HTTP request sent, awaiting response... 302 Found\n",
      "Location: https://uce442b30677af685dbfb6fe6eba.dl.dropboxusercontent.com/cd/0/inline/BxqMkLO31NpwKapn3n-h7vatXEjeWvFh7xUUWzKhTQ320nXvi1f2xw158ZRav_2xRm7dlD8hFZDJVqZoewosZzh3q0pC3QXrvTDq17ta5WbIcpsBpkqH-f1mG6B0aSxHWyR6YZ-2mQtQ8FwOP7AhdSaeN0FNZhP3yBCAiP1dmKGBwA/file# [following]\n",
      "--2022-11-29 12:32:16--  https://uce442b30677af685dbfb6fe6eba.dl.dropboxusercontent.com/cd/0/inline/BxqMkLO31NpwKapn3n-h7vatXEjeWvFh7xUUWzKhTQ320nXvi1f2xw158ZRav_2xRm7dlD8hFZDJVqZoewosZzh3q0pC3QXrvTDq17ta5WbIcpsBpkqH-f1mG6B0aSxHWyR6YZ-2mQtQ8FwOP7AhdSaeN0FNZhP3yBCAiP1dmKGBwA/file\n",
      "Resolving uce442b30677af685dbfb6fe6eba.dl.dropboxusercontent.com (uce442b30677af685dbfb6fe6eba.dl.dropboxusercontent.com)... 162.125.69.15, 2620:100:6025:15::a27d:450f\n",
      "Connecting to uce442b30677af685dbfb6fe6eba.dl.dropboxusercontent.com (uce442b30677af685dbfb6fe6eba.dl.dropboxusercontent.com)|162.125.69.15|:443... connected.\n",
      "HTTP request sent, awaiting response... 200 OK\n",
      "Length: 525 [text/plain]\n",
      "Saving to: ‘data/populations.txt.1’\n",
      "\n",
      "populations.txt.1   100%[===================>]     525  --.-KB/s    in 0s      \n",
      "\n",
      "2022-11-29 12:32:16 (56,3 MB/s) - ‘data/populations.txt.1’ saved [525/525]\n",
      "\n"
     ]
    }
   ],
   "source": [
    "!wget https://www.dropbox.com/s/ebe1cnyd2gm836a/populations.txt -P data/"
   ]
  },
  {
   "cell_type": "code",
   "execution_count": 10,
   "metadata": {},
   "outputs": [],
   "source": [
    "import numpy.random as npr\n",
    "import csv"
   ]
  },
  {
   "cell_type": "markdown",
   "metadata": {},
   "source": [
    "1\\. **Text files**\n",
    "\n",
    "Perform the following operations on plain `txt` files:\n",
    "\n",
    "+ create a list of integrer numbers and then save it to a text file named `data_int.txt`. Run the `cat` command to print the content of the file.\n",
    "+ create a matrix of 5x5 floats and then save it to a text file named `data_float.txt`. Use the `cat` command to print the content of the file.\n",
    "+ load the `txt` file of the previous point and convert it to a `csv` file by hand."
   ]
  },
  {
   "cell_type": "code",
   "execution_count": 9,
   "metadata": {},
   "outputs": [],
   "source": [
    "# 1.a)\n",
    "file_name_int = \"./data_int.txt\"\n",
    "int_list = npr.randint(1,50,10)\n",
    "\n",
    "with open(file_name_int, 'w') as outfile:\n",
    "    outfile.write(str(int_list))\n",
    "\n",
    "# 1.b)\n",
    "file_name_float = \"./data_float.txt\"\n",
    "flt_list = npr.rand(1,50,10)\n",
    "\n",
    "with open(file_name_float, 'w') as outfile:\n",
    "    outfile.write(str(flt_list))\n",
    "    \n",
    "# 1.c)\n",
    "file_name_csv = \"./data_float.csv\"\n",
    "with open(file_name_float, 'r') as infile:\n",
    "    with open(file_name_csv, 'w') as outfile:    \n",
    "        for line in infile:\n",
    "            l = line.replace('[','')\n",
    "            l = l.replace(']','')\n",
    "            outfile.write(',\\n'.join(l.split())+\",\\n\")"
   ]
  },
  {
   "cell_type": "code",
   "execution_count": null,
   "metadata": {},
   "outputs": [],
   "source": []
  },
  {
   "cell_type": "markdown",
   "metadata": {},
   "source": [
    "2\\. **JSON files**\n",
    "\n",
    "Load the file *user_data.json*, which can be found at:\n",
    "\n",
    "- https://www.dropbox.com/s/sz5klcdpckc39hd/user_data.json\n",
    "\n",
    "and filter the data by the \"CreditCardType\" when it equals to \"American Express\". Than save the data to a new CSV file."
   ]
  },
  {
   "cell_type": "code",
   "execution_count": 6,
   "metadata": {},
   "outputs": [
    {
     "name": "stdout",
     "output_type": "stream",
     "text": [
      "--2022-11-29 12:33:59--  https://www.dropbox.com/s/sz5klcdpckc39hd/user_data.json\n",
      "Resolving www.dropbox.com (www.dropbox.com)... 162.125.69.18, 2620:100:6025:18::a27d:4512\n",
      "Connecting to www.dropbox.com (www.dropbox.com)|162.125.69.18|:443... connected.\n",
      "HTTP request sent, awaiting response... 302 Found\n",
      "Location: /s/raw/sz5klcdpckc39hd/user_data.json [following]\n",
      "--2022-11-29 12:34:00--  https://www.dropbox.com/s/raw/sz5klcdpckc39hd/user_data.json\n",
      "Reusing existing connection to www.dropbox.com:443.\n",
      "HTTP request sent, awaiting response... 302 Found\n",
      "Location: https://uc7f60c2b5285d5903f0376f438b.dl.dropboxusercontent.com/cd/0/inline/Bxqv-NdkrZJ3PdL9J3Eimw1Q9jOev4eKMRdNfRyQQUItyVZLJ630IFdlobbGP2M9WRfTduh1iA-3Bla90Wcsyn5XKqqqzcVZHU31w5uIqliLiCPJNfSfrSBnKcxLKAMCNsyMvJOs8_vl-AeVwLE41ENZOaQiF3AHKmxPXrHUfPUhhw/file# [following]\n",
      "--2022-11-29 12:34:00--  https://uc7f60c2b5285d5903f0376f438b.dl.dropboxusercontent.com/cd/0/inline/Bxqv-NdkrZJ3PdL9J3Eimw1Q9jOev4eKMRdNfRyQQUItyVZLJ630IFdlobbGP2M9WRfTduh1iA-3Bla90Wcsyn5XKqqqzcVZHU31w5uIqliLiCPJNfSfrSBnKcxLKAMCNsyMvJOs8_vl-AeVwLE41ENZOaQiF3AHKmxPXrHUfPUhhw/file\n",
      "Resolving uc7f60c2b5285d5903f0376f438b.dl.dropboxusercontent.com (uc7f60c2b5285d5903f0376f438b.dl.dropboxusercontent.com)... 162.125.69.15, 2620:100:6025:15::a27d:450f\n",
      "Connecting to uc7f60c2b5285d5903f0376f438b.dl.dropboxusercontent.com (uc7f60c2b5285d5903f0376f438b.dl.dropboxusercontent.com)|162.125.69.15|:443... connected.\n",
      "HTTP request sent, awaiting response... 200 OK\n",
      "Length: 40417 (39K) [text/plain]\n",
      "Saving to: ‘user_data.json’\n",
      "\n",
      "user_data.json      100%[===================>]  39,47K  --.-KB/s    in 0,02s   \n",
      "\n",
      "2022-11-29 12:34:01 (2,53 MB/s) - ‘user_data.json’ saved [40417/40417]\n",
      "\n"
     ]
    }
   ],
   "source": [
    "!wget https://www.dropbox.com/s/sz5klcdpckc39hd/user_data.json"
   ]
  },
  {
   "cell_type": "code",
   "execution_count": 14,
   "metadata": {},
   "outputs": [],
   "source": [
    "file_name_json = \"./user_data.json\"\n",
    "df = pd.read_json(file_name_json)\n",
    "df = df[df[\"CreditCardType\"] == \"American Express\"]\n",
    "df.to_csv(\"./user_data.csv\", index = None)"
   ]
  },
  {
   "cell_type": "code",
   "execution_count": null,
   "metadata": {},
   "outputs": [],
   "source": []
  },
  {
   "cell_type": "markdown",
   "metadata": {},
   "source": [
    "3\\. **CSV files with Pandas**\n",
    "\n",
    "Load the file from this url:\n",
    "\n",
    "- https://www.dropbox.com/s/kgshemfgk22iy79/mushrooms_categorized.csv\n",
    "\n",
    "with Pandas. \n",
    "\n",
    "+ explore and print the DataFrame\n",
    "+ calculate, using `groupby()`, the average value of each feature, separately for each class\n",
    "+ save the file in a JSON format."
   ]
  },
  {
   "cell_type": "code",
   "execution_count": 14,
   "metadata": {},
   "outputs": [
    {
     "name": "stdout",
     "output_type": "stream",
     "text": [
      "--2022-11-29 12:40:53--  https://www.dropbox.com/s/kgshemfgk22iy79/mushrooms_categorized.csv\n",
      "Resolving www.dropbox.com (www.dropbox.com)... 162.125.69.18, 2620:100:6025:18::a27d:4512\n",
      "Connecting to www.dropbox.com (www.dropbox.com)|162.125.69.18|:443... connected.\n",
      "HTTP request sent, awaiting response... 302 Found\n",
      "Location: /s/raw/kgshemfgk22iy79/mushrooms_categorized.csv [following]\n",
      "--2022-11-29 12:40:54--  https://www.dropbox.com/s/raw/kgshemfgk22iy79/mushrooms_categorized.csv\n",
      "Reusing existing connection to www.dropbox.com:443.\n",
      "HTTP request sent, awaiting response... 302 Found\n",
      "Location: https://uca81210a878253a15a90c3381b4.dl.dropboxusercontent.com/cd/0/inline/BxrDW112gIIvQQXcMX_8lfdNyyTsuu5-Flyfa_VW3KCuYavcJyTsKHZjcD1RG5wIOcHmTsfFDJvE13UFuDrndArxZZnQrrKOEf6_2kqdq2N2ywt6h2B82jaTZLadR5xlnsHQrCizucWzKiyTLrm2jzjMELhs8_r5WGL-e-GE2aOt1w/file# [following]\n",
      "--2022-11-29 12:40:54--  https://uca81210a878253a15a90c3381b4.dl.dropboxusercontent.com/cd/0/inline/BxrDW112gIIvQQXcMX_8lfdNyyTsuu5-Flyfa_VW3KCuYavcJyTsKHZjcD1RG5wIOcHmTsfFDJvE13UFuDrndArxZZnQrrKOEf6_2kqdq2N2ywt6h2B82jaTZLadR5xlnsHQrCizucWzKiyTLrm2jzjMELhs8_r5WGL-e-GE2aOt1w/file\n",
      "Resolving uca81210a878253a15a90c3381b4.dl.dropboxusercontent.com (uca81210a878253a15a90c3381b4.dl.dropboxusercontent.com)... 162.125.69.15, 2620:100:6025:15::a27d:450f\n",
      "Connecting to uca81210a878253a15a90c3381b4.dl.dropboxusercontent.com (uca81210a878253a15a90c3381b4.dl.dropboxusercontent.com)|162.125.69.15|:443... connected.\n",
      "HTTP request sent, awaiting response... 200 OK\n",
      "Length: 375292 (366K) [text/plain]\n",
      "Saving to: ‘mushrooms_categorized.csv’\n",
      "\n",
      "mushrooms_categoriz 100%[===================>] 366,50K  --.-KB/s    in 0,06s   \n",
      "\n",
      "2022-11-29 12:40:55 (5,99 MB/s) - ‘mushrooms_categorized.csv’ saved [375292/375292]\n",
      "\n"
     ]
    }
   ],
   "source": [
    "!wget https://www.dropbox.com/s/kgshemfgk22iy79/mushrooms_categorized.csv"
   ]
  },
  {
   "cell_type": "code",
   "execution_count": 18,
   "metadata": {},
   "outputs": [
    {
     "name": "stdout",
     "output_type": "stream",
     "text": [
      "      class  cap-shape  cap-surface  cap-color  bruises  odor  \\\n",
      "0         1          5            2          4        1     6   \n",
      "1         0          5            2          9        1     0   \n",
      "2         0          0            2          8        1     3   \n",
      "3         1          5            3          8        1     6   \n",
      "4         0          5            2          3        0     5   \n",
      "...     ...        ...          ...        ...      ...   ...   \n",
      "8119      0          3            2          4        0     5   \n",
      "8120      0          5            2          4        0     5   \n",
      "8121      0          2            2          4        0     5   \n",
      "8122      1          3            3          4        0     8   \n",
      "8123      0          5            2          4        0     5   \n",
      "\n",
      "      gill-attachment  gill-spacing  gill-size  gill-color  ...  \\\n",
      "0                   1             0          1           4  ...   \n",
      "1                   1             0          0           4  ...   \n",
      "2                   1             0          0           5  ...   \n",
      "3                   1             0          1           5  ...   \n",
      "4                   1             1          0           4  ...   \n",
      "...               ...           ...        ...         ...  ...   \n",
      "8119                0             0          0          11  ...   \n",
      "8120                0             0          0          11  ...   \n",
      "8121                0             0          0           5  ...   \n",
      "8122                1             0          1           0  ...   \n",
      "8123                0             0          0          11  ...   \n",
      "\n",
      "      stalk-surface-below-ring  stalk-color-above-ring  \\\n",
      "0                            2                       7   \n",
      "1                            2                       7   \n",
      "2                            2                       7   \n",
      "3                            2                       7   \n",
      "4                            2                       7   \n",
      "...                        ...                     ...   \n",
      "8119                         2                       5   \n",
      "8120                         2                       5   \n",
      "8121                         2                       5   \n",
      "8122                         1                       7   \n",
      "8123                         2                       5   \n",
      "\n",
      "      stalk-color-below-ring  veil-type  veil-color  ring-number  ring-type  \\\n",
      "0                          7          0           2            1          4   \n",
      "1                          7          0           2            1          4   \n",
      "2                          7          0           2            1          4   \n",
      "3                          7          0           2            1          4   \n",
      "4                          7          0           2            1          0   \n",
      "...                      ...        ...         ...          ...        ...   \n",
      "8119                       5          0           1            1          4   \n",
      "8120                       5          0           0            1          4   \n",
      "8121                       5          0           1            1          4   \n",
      "8122                       7          0           2            1          0   \n",
      "8123                       5          0           1            1          4   \n",
      "\n",
      "      spore-print-color  population  habitat  \n",
      "0                     2           3        5  \n",
      "1                     3           2        1  \n",
      "2                     3           2        3  \n",
      "3                     2           3        5  \n",
      "4                     3           0        1  \n",
      "...                 ...         ...      ...  \n",
      "8119                  0           1        2  \n",
      "8120                  0           4        2  \n",
      "8121                  0           1        2  \n",
      "8122                  7           4        2  \n",
      "8123                  4           1        2  \n",
      "\n",
      "[8124 rows x 23 columns]\n",
      "The average value of each feature, separately for each class: \n",
      "        cap-shape  cap-surface  cap-color   bruises      odor  gill-attachment  \\\n",
      "class                                                                           \n",
      "0       3.266160     1.615970   4.581749  0.653992  4.334601         0.954373   \n",
      "1       3.436159     2.055158   4.421859  0.159346  3.940756         0.995403   \n",
      "\n",
      "       gill-spacing  gill-size  gill-color  stalk-shape  ...  \\\n",
      "class                                                    ...   \n",
      "0          0.285171   0.068441    6.622624     0.615970  ...   \n",
      "1          0.028601   0.567926    2.863636     0.514811  ...   \n",
      "\n",
      "       stalk-surface-below-ring  stalk-color-above-ring  \\\n",
      "class                                                     \n",
      "0                      1.798479                6.098859   \n",
      "1                      1.394280                5.512768   \n",
      "\n",
      "       stalk-color-below-ring  veil-type  veil-color  ring-number  ring-type  \\\n",
      "class                                                                          \n",
      "0                    6.064639        0.0    1.931559     1.125475   3.007605   \n",
      "1                    5.504597        0.0    2.002043     1.009193   1.522983   \n",
      "\n",
      "       spore-print-color  population   habitat  \n",
      "class                                           \n",
      "0               3.201521    3.283270  1.148289  \n",
      "1               4.021450    4.031665  1.895812  \n",
      "\n",
      "[2 rows x 22 columns]\n"
     ]
    }
   ],
   "source": [
    "file_name_csv = \"./mushrooms_categorized.csv\"\n",
    "file_name_json = \"./mushrooms_categorized.json\"\n",
    "\n",
    "# 3.a)\n",
    "df = pd.read_csv(file_name_csv)\n",
    "print(df)\n",
    "\n",
    "# 3.b)\n",
    "avg_feature = df.groupby(\"class\").mean()\n",
    "print(\"The average value of each feature, separately for each class: \\n\", avg_feature)\n",
    "\n",
    "# 3.c)\n",
    "import json\n",
    "avg_feature.to_json(file_name_json)"
   ]
  },
  {
   "cell_type": "code",
   "execution_count": null,
   "metadata": {},
   "outputs": [],
   "source": []
  },
  {
   "cell_type": "markdown",
   "metadata": {},
   "source": [
    "4\\. **Reading the credit card numbers**\n",
    "\n",
    "Get the binary file named *credit_card.dat* from this address:\n",
    "\n",
    "- https://www.dropbox.com/s/8m0syw2tkul3dap/credit_card.dat\n",
    "\n",
    "and convert the data into the real credit card number, knowing that:\n",
    "- each line corresponds to a credit card number, which consists of 16 characters (which are numbers in the 0-9 range) divided in 4 blocks, with a whitespace between each block\n",
    "- each character is written using a 6 bit binary representation (including the whitespace)\n",
    "- the final 4 bits of each line are a padding used to determine the end of the line, and can be ignored\n",
    "\n",
    "*Hint*: convert the binary numbers to the decimal representation first, and then use the `chr()` function to convert the latter to a char"
   ]
  },
  {
   "cell_type": "code",
   "execution_count": 19,
   "metadata": {},
   "outputs": [
    {
     "name": "stdout",
     "output_type": "stream",
     "text": [
      "--2022-12-02 09:51:29--  https://www.dropbox.com/s/8m0syw2tkul3dap/credit_card.dat\n",
      "Resolving www.dropbox.com (www.dropbox.com)... 162.125.69.18, 2620:100:6025:18::a27d:4512\n",
      "Connecting to www.dropbox.com (www.dropbox.com)|162.125.69.18|:443... connected.\n",
      "HTTP request sent, awaiting response... 302 Found\n",
      "Location: /s/raw/8m0syw2tkul3dap/credit_card.dat [following]\n",
      "--2022-12-02 09:51:30--  https://www.dropbox.com/s/raw/8m0syw2tkul3dap/credit_card.dat\n",
      "Reusing existing connection to www.dropbox.com:443.\n",
      "HTTP request sent, awaiting response... 302 Found\n",
      "Location: https://uc0b919b236d15393bb1f0727ca6.dl.dropboxusercontent.com/cd/0/inline/Bx0EYwUMxOOLTbYD-_j6SJrGIpcq8cqVks2xNGft1aItnxVA0fRRa2rlECL0Ylo3Fz-POGAkVA0-RjiRlo9B5xAPYEDhq-Kkk4DsbaoMGvWJ6TUnYuD7AhSk27eWX6f687qD2M-_87XhzpX5y0jyGQTbNYenQBHi7Bw6YB96z3QoCg/file# [following]\n",
      "--2022-12-02 09:51:30--  https://uc0b919b236d15393bb1f0727ca6.dl.dropboxusercontent.com/cd/0/inline/Bx0EYwUMxOOLTbYD-_j6SJrGIpcq8cqVks2xNGft1aItnxVA0fRRa2rlECL0Ylo3Fz-POGAkVA0-RjiRlo9B5xAPYEDhq-Kkk4DsbaoMGvWJ6TUnYuD7AhSk27eWX6f687qD2M-_87XhzpX5y0jyGQTbNYenQBHi7Bw6YB96z3QoCg/file\n",
      "Resolving uc0b919b236d15393bb1f0727ca6.dl.dropboxusercontent.com (uc0b919b236d15393bb1f0727ca6.dl.dropboxusercontent.com)... 162.125.69.15, 2620:100:6025:15::a27d:450f\n",
      "Connecting to uc0b919b236d15393bb1f0727ca6.dl.dropboxusercontent.com (uc0b919b236d15393bb1f0727ca6.dl.dropboxusercontent.com)|162.125.69.15|:443... connected.\n",
      "HTTP request sent, awaiting response... 302 Found\n",
      "Location: /cd/0/inline2/Bx22Vwsb5KHVriuMnOtqOlKITfRM0dHzNDjPK7bBeGMeyrlJPWLu01m49p1eBs00H1e9a2SVc7X4YJNPmEj9VQ9-rLAT8zOknEVjptVLW2knU_fMJ-z6f8IpbUIGNUmFPoPhT3N5VGY92cfUmENpcp-LlP_CXdLaXwQeifToDp99VyJe1WELJccHKjY479hmzRdQIQhYtxVm_eDE7-vRayu9804jgF3bTzi-1wuV_j3dSZbbUmppz8lLn_Cgsk4oRagbbZ-ppgfqALdCF_rBW9hA4r1aVvOWJl6p5JTyK3zr3VxFolfjqmR56FyYa96k4n3ImIfQVP4nu2sdB4FDTW9n0WUcID3_N0scqczHSALN8eoIUfmfwITFbZE1yMI0xq_-slUP1Q8C11yBTt6ReWtQMAvs3eQF8xp8F3TBqrxuCA/file [following]\n",
      "--2022-12-02 09:51:31--  https://uc0b919b236d15393bb1f0727ca6.dl.dropboxusercontent.com/cd/0/inline2/Bx22Vwsb5KHVriuMnOtqOlKITfRM0dHzNDjPK7bBeGMeyrlJPWLu01m49p1eBs00H1e9a2SVc7X4YJNPmEj9VQ9-rLAT8zOknEVjptVLW2knU_fMJ-z6f8IpbUIGNUmFPoPhT3N5VGY92cfUmENpcp-LlP_CXdLaXwQeifToDp99VyJe1WELJccHKjY479hmzRdQIQhYtxVm_eDE7-vRayu9804jgF3bTzi-1wuV_j3dSZbbUmppz8lLn_Cgsk4oRagbbZ-ppgfqALdCF_rBW9hA4r1aVvOWJl6p5JTyK3zr3VxFolfjqmR56FyYa96k4n3ImIfQVP4nu2sdB4FDTW9n0WUcID3_N0scqczHSALN8eoIUfmfwITFbZE1yMI0xq_-slUP1Q8C11yBTt6ReWtQMAvs3eQF8xp8F3TBqrxuCA/file\n",
      "Reusing existing connection to uc0b919b236d15393bb1f0727ca6.dl.dropboxusercontent.com:443.\n",
      "HTTP request sent, awaiting response... 200 OK\n",
      "Length: 5955 (5,8K) [application/x-ns-proxy-autoconfig]\n",
      "Saving to: ‘credit_card.dat’\n",
      "\n",
      "credit_card.dat     100%[===================>]   5,82K  --.-KB/s    in 0s      \n",
      "\n",
      "2022-12-02 09:51:31 (1,73 GB/s) - ‘credit_card.dat’ saved [5955/5955]\n",
      "\n"
     ]
    }
   ],
   "source": [
    "!wget https://www.dropbox.com/s/8m0syw2tkul3dap/credit_card.dat"
   ]
  },
  {
   "cell_type": "code",
   "execution_count": 20,
   "metadata": {},
   "outputs": [],
   "source": [
    "file_name_dat = \"./credit_card.dat\""
   ]
  },
  {
   "cell_type": "code",
   "execution_count": null,
   "metadata": {},
   "outputs": [],
   "source": []
  },
  {
   "cell_type": "markdown",
   "metadata": {},
   "source": [
    "5\\. **Write data to a binary file**\n",
    "\n",
    "a) Start from the `data/data_000637.txt` file that we have used during the previous lectures, and convert it to a binary file according to the format defined below:"
   ]
  },
  {
   "cell_type": "code",
   "execution_count": null,
   "metadata": {},
   "outputs": [],
   "source": [
    "from IPython.display import Image\n",
    "Image(\"images/data_format.png\")"
   ]
  },
  {
   "cell_type": "markdown",
   "metadata": {},
   "source": [
    "*Hints*:\n",
    "- Read the first 10 lines using Pandas\n",
    "- Iterate over the DataFrame rows\n",
    "- For every row, ``pack'' the values (features) into a single 64-bit word, according to the format specified above. Use bit-wise shifts and operators to do so.\n",
    "- Write each 64-bit word to a binary file. You can use `struct` in this way:\n",
    "```\n",
    "binary_file.write( struct.pack('<q', word) )\n",
    "```\n",
    "where `word` is the 64-bit word.\n",
    "- Close the file after completing the loop.\n",
    "\n",
    "b) Check that the binary file is correctly written by reading it with the code used in the lecture `06_OSEMN.ipynb`, and verify that the content of the `txt` and binary files is consistent.\n",
    "\n",
    "c) What is the difference of the size on disk between equivalent `txt` and binary files?"
   ]
  },
  {
   "cell_type": "code",
   "execution_count": null,
   "metadata": {},
   "outputs": [],
   "source": []
  },
  {
   "cell_type": "code",
   "execution_count": null,
   "metadata": {},
   "outputs": [],
   "source": []
  },
  {
   "cell_type": "code",
   "execution_count": null,
   "metadata": {},
   "outputs": [],
   "source": []
  },
  {
   "cell_type": "code",
   "execution_count": null,
   "metadata": {},
   "outputs": [],
   "source": []
  }
 ],
 "metadata": {
  "kernelspec": {
   "display_name": "Python 3",
   "language": "python",
   "name": "python3"
  },
  "language_info": {
   "codemirror_mode": {
    "name": "ipython",
    "version": 3
   },
   "file_extension": ".py",
   "mimetype": "text/x-python",
   "name": "python",
   "nbconvert_exporter": "python",
   "pygments_lexer": "ipython3",
   "version": "3.8.10"
  }
 },
 "nbformat": 4,
 "nbformat_minor": 2
}
