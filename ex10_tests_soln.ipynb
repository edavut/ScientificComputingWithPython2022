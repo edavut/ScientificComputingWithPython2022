{
 "cells": [
  {
   "cell_type": "markdown",
   "metadata": {},
   "source": [
    "1\\. **Hurricanes per Year**\n",
    "\n",
    "The number of hurricanes in 2005 was 15. The historic average is 6.3. Is this number signficantly different?\n",
    "- Assume the number of hurricanes is random, i.e. follows the Poisson distribution.\n",
    "- Assume as statistically significant a probability that has a Z score of 3 or larger with respect a normal distribution.\n",
    "\n",
    "**Hint**: compute the probability that in a single year are observed 15 or more hurricances."
   ]
  },
  {
   "cell_type": "code",
   "execution_count": 1,
   "metadata": {},
   "outputs": [],
   "source": [
    "import numpy as np\n",
    "import pandas as pd\n",
    "from scipy.stats import poisson, chi2\n",
    "from scipy import stats\n",
    "import matplotlib.pyplot as plt\n",
    "from scipy import optimize"
   ]
  },
  {
   "cell_type": "code",
   "execution_count": 2,
   "metadata": {},
   "outputs": [
    {
     "name": "stdout",
     "output_type": "stream",
     "text": [
      "Probability of observing 15 or more hurricanes in a single year: \n",
      " 0.0008444930803583883\n",
      "\n",
      " Z Score:  3.4661629670697414\n",
      "\n",
      " p-value = 0.0005279431738299246\n",
      "\n",
      " The difference beween the number of hurricanes in 2005 is significantly different from the historic average.\n"
     ]
    }
   ],
   "source": [
    "hist_avg = 6.3\n",
    "\n",
    "prob = 1 - poisson.cdf(15, hist_avg)\n",
    "print(\"Probability of observing 15 or more hurricanes in a single year: \\n\", prob)\n",
    "\n",
    "z_score = (15 - hist_avg) / (hist_avg ** 0.5)\n",
    "print(\"\\n Z Score: \", z_score)\n",
    "\n",
    "pvalue = stats.norm.cdf(-z_score) + (1. - stats.norm.cdf(z_score))\n",
    "print(\"\\n p-value =\", pvalue)\n",
    "\n",
    "if z_score >= 3:\n",
    "    print(\"\\n The difference beween the number of hurricanes in 2005 is significantly different from the historic average.\")\n",
    "else:\n",
    "    print(\"\\n The difference beween the number of hurricanes in 2005 is not significantly different from the historic average.\")\n"
   ]
  },
  {
   "cell_type": "code",
   "execution_count": null,
   "metadata": {},
   "outputs": [],
   "source": []
  },
  {
   "cell_type": "markdown",
   "metadata": {},
   "source": [
    "2\\. **Pairwise t-test**\n",
    "\n",
    "In an experiment, a group of 10 individuals agreed to participate in a study of blood pressure changes following exposure to halogen lighting. Resting systolic blood pressure was recorded for each individual. The participants were then exposed to 20 minutes in a room lit only by halogen lamps. A post-exposure systolic blood pressure reading was recorded for each individual. The results are presented in the following data set:\n",
    "\n",
    "```python\n",
    "pre = np.array([120, 132, 120, 110, 115, 128, 120, 112, 110, 100])\n",
    "post = np.array([140, 156, 145, 130, 117, 148, 137, 119, 127, 135])\n",
    "```\n",
    "\n",
    "Determine whether the change in blood pressures within our sample was statistically significant.\n",
    "\n",
    "**Hint:**\n",
    "in this case, the Student's $t$-test should be performed to compare the two datasets.\n",
    "Use the following test statistics:\n",
    "\n",
    "$$T = \\frac{\\bar{x}_1 - \\bar{x}_2}{\\sigma \\sqrt{\\frac{2}{n}}}$$\n",
    "\n",
    "and \n",
    "\n",
    "$$\\sigma = \\sqrt{\\frac{\\sigma_1^2 + \\sigma_2^2}{2}}$$"
   ]
  },
  {
   "cell_type": "code",
   "execution_count": 3,
   "metadata": {},
   "outputs": [
    {
     "name": "stdout",
     "output_type": "stream",
     "text": [
      "T:  -3.786997938137629\n",
      "p-value = 0.004302464132864604\n",
      "The change was stathistically significant.\n"
     ]
    }
   ],
   "source": [
    "pre = np.array([120, 132, 120, 110, 115, 128, 120, 112, 110, 100])\n",
    "post = np.array([140, 156, 145, 130, 117, 148, 137, 119, 127, 135])\n",
    "\n",
    "n = len(pre)\n",
    "alpha = 0.05\n",
    "\n",
    "pre_mean = np.mean(pre)\n",
    "pre_var = np.var(pre, ddof=1)\n",
    "post_mean = np.mean(post)\n",
    "post_var = np.var(post, ddof=1)\n",
    "\n",
    "sigma=np.sqrt((pre_var + post_var)/2)\n",
    "t_stat = (pre_mean - post_mean) / (sigma * np.sqrt(2/n))\n",
    "print(\"T: \",t_stat)\n",
    "\n",
    "pvalue = stats.t.cdf(t_stat,n-1) + (1. - stats.t.cdf(-t_stat,n-1))\n",
    "print(\"p-value =\", pvalue)\n",
    "\n",
    "if pvalue < alpha:\n",
    "    print(\"The change was stathistically significant.\")\n",
    "else:\n",
    "    print(\"The change was not stathistically significant.\")"
   ]
  },
  {
   "cell_type": "code",
   "execution_count": null,
   "metadata": {},
   "outputs": [],
   "source": []
  },
  {
   "cell_type": "markdown",
   "metadata": {},
   "source": [
    "3\\. **Curve fitting of temperature in Alaska** \n",
    "\n",
    "The temperature extremes in Alaska for each month, starting in January, are given by (in degrees Celcius):\n",
    "\n",
    "max:  `17,  19,  21,  28,  33,  38, 37,  37,  31,  23,  19,  18`\n",
    "\n",
    "min: `-62, -59, -56, -46, -32, -18, -9, -13, -25, -46, -52, -58`\n",
    "\n",
    "* Plot these temperatures.\n",
    "* Find a suitable a function that can describe min and max temperatures. \n",
    "* Fit this function to the data with `scipy.optimize.curve_fit()`.\n",
    "* Plot the result. Is the fit reasonable? If not, why?\n",
    "* Is the time offset for min and max temperatures the same within the fit accuracy?"
   ]
  },
  {
   "cell_type": "code",
   "execution_count": 4,
   "metadata": {},
   "outputs": [
    {
     "data": {
      "image/png": "[encoded data removed]",
      "text/plain": [
       "<Figure size 432x288 with 1 Axes>"
      ]
     },
     "metadata": {
      "needs_background": "light"
     },
     "output_type": "display_data"
    }
   ],
   "source": [
    "def func(x, m, v, A, off):\n",
    "    return A * stats.norm.pdf(x, loc=m, scale=v) + off\n",
    "\n",
    "temps_max = np.array([17,  19,  21,  28,  33,  38, 37,  37,  31,  23,  19,  18])\n",
    "temps_min = np.array([-62, -59, -56, -46, -32, -18, -9, -13, -25, -46, -52, -58])\n",
    "months = np.array([1,2,3,4,5,6,7,8,9,10,11,12])\n",
    "x = np.linspace(1,12,100)\n",
    "\n",
    "opt_max, cov_max = optimize.curve_fit(func, months, temps_max, p0=[6, 1, 1, 0], full_output=False)\n",
    "\n",
    "plt.plot(x, func(x, opt_max[0], opt_max[1], opt_max[2], opt_max[3]), color='black', label='Fit temp max')\n",
    "plt.scatter(months, temps_max, label='Temp max')\n",
    "\n",
    "opt_min, cov_min = optimize.curve_fit(func, months, temps_min, p0=[6, 1, 1, 0], full_output=False)\n",
    "\n",
    "plt.plot(x, func(x, opt_min[0], opt_min[1], opt_min[2], opt_min[3]), color='red', label='Fitt temp min')\n",
    "plt.scatter(months, temps_min, label='Temp min')\n",
    "plt.ylabel('Temperature')\n",
    "plt.xlabel('Month')\n",
    "plt.legend()\n",
    "plt.show()"
   ]
  },
  {
   "cell_type": "code",
   "execution_count": null,
   "metadata": {},
   "outputs": [],
   "source": []
  },
  {
   "cell_type": "markdown",
   "metadata": {},
   "source": [
    "4\\. **Fit the residues**\n",
    "\n",
    "Read the `data/residuals_261.pkl` file. If you haven't got it already, download it from here:\n",
    "\n",
    "```bash\n",
    "wget https://www.dropbox.com/s/3uqleyc3wyz52tr/residuals_261.pkl -P data/\n",
    "```\n",
    "\n",
    "The feature named `residual` contains the residuals (defined as $y_i - \\hat{y}_i$) of a linear regression as a function of the independent variable `distances`.\n",
    "\n",
    "- Considering only the \"residual\" feature, create an histogram with the appropriate binning and plot it.\n",
    "- Set the appropriate Poisson uncertainty for each bin (thus, for each bin, $\\sigma_i = \\sqrt{n_i}$, where $n_i$ is the number of entries in each bin)\n",
    "- By looking at the distribution of the residuals, define an appropriate function and fit it to the histogram of the residuals\n",
    "- Perform a goodness-of-fit test. Is the p-value of the fit satisfactory?"
   ]
  },
  {
   "cell_type": "code",
   "execution_count": 7,
   "metadata": {},
   "outputs": [
    {
     "data": {
      "text/html": [
       "<div>\n",
       "<style scoped>\n",
       "    .dataframe tbody tr th:only-of-type {\n",
       "        vertical-align: middle;\n",
       "    }\n",
       "\n",
       "    .dataframe tbody tr th {\n",
       "        vertical-align: top;\n",
       "    }\n",
       "\n",
       "    .dataframe thead th {\n",
       "        text-align: right;\n",
       "    }\n",
       "</style>\n",
       "<table border=\"1\" class=\"dataframe\">\n",
       "  <thead>\n",
       "    <tr style=\"text-align: right;\">\n",
       "      <th></th>\n",
       "      <th>residuals</th>\n",
       "      <th>distances</th>\n",
       "    </tr>\n",
       "  </thead>\n",
       "  <tbody>\n",
       "    <tr>\n",
       "      <th>0</th>\n",
       "      <td>1.100000</td>\n",
       "      <td>16.0</td>\n",
       "    </tr>\n",
       "    <tr>\n",
       "      <th>1</th>\n",
       "      <td>-1.950000</td>\n",
       "      <td>6.3</td>\n",
       "    </tr>\n",
       "    <tr>\n",
       "      <th>2</th>\n",
       "      <td>-7.200000</td>\n",
       "      <td>3.4</td>\n",
       "    </tr>\n",
       "    <tr>\n",
       "      <th>3</th>\n",
       "      <td>-4.150000</td>\n",
       "      <td>8.4</td>\n",
       "    </tr>\n",
       "    <tr>\n",
       "      <th>4</th>\n",
       "      <td>-6.590000</td>\n",
       "      <td>1.7</td>\n",
       "    </tr>\n",
       "    <tr>\n",
       "      <th>...</th>\n",
       "      <td>...</td>\n",
       "      <td>...</td>\n",
       "    </tr>\n",
       "    <tr>\n",
       "      <th>11126</th>\n",
       "      <td>-0.760000</td>\n",
       "      <td>14.4</td>\n",
       "    </tr>\n",
       "    <tr>\n",
       "      <th>11127</th>\n",
       "      <td>0.380000</td>\n",
       "      <td>7.5</td>\n",
       "    </tr>\n",
       "    <tr>\n",
       "      <th>11128</th>\n",
       "      <td>0.083333</td>\n",
       "      <td>1.7</td>\n",
       "    </tr>\n",
       "    <tr>\n",
       "      <th>11129</th>\n",
       "      <td>0.166667</td>\n",
       "      <td>19.1</td>\n",
       "    </tr>\n",
       "    <tr>\n",
       "      <th>11130</th>\n",
       "      <td>0.083333</td>\n",
       "      <td>2.6</td>\n",
       "    </tr>\n",
       "  </tbody>\n",
       "</table>\n",
       "<p>11131 rows × 2 columns</p>\n",
       "</div>"
      ],
      "text/plain": [
       "       residuals  distances\n",
       "0       1.100000       16.0\n",
       "1      -1.950000        6.3\n",
       "2      -7.200000        3.4\n",
       "3      -4.150000        8.4\n",
       "4      -6.590000        1.7\n",
       "...          ...        ...\n",
       "11126  -0.760000       14.4\n",
       "11127   0.380000        7.5\n",
       "11128   0.083333        1.7\n",
       "11129   0.166667       19.1\n",
       "11130   0.083333        2.6\n",
       "\n",
       "[11131 rows x 2 columns]"
      ]
     },
     "metadata": {},
     "output_type": "display_data"
    },
    {
     "data": {
      "text/plain": [
       "<Figure size 432x288 with 0 Axes>"
      ]
     },
     "metadata": {},
     "output_type": "display_data"
    },
    {
     "data": {
      "image/png": "[encoded data removed]",
      "text/plain": [
       "<Figure size 864x432 with 2 Axes>"
      ]
     },
     "metadata": {
      "needs_background": "light"
     },
     "output_type": "display_data"
    },
    {
     "name": "stdout",
     "output_type": "stream",
     "text": [
      "chi2 = 2360.53712512561\n",
      "p-value:  0.0\n",
      "The fit is considered unsatisfactor\n"
     ]
    }
   ],
   "source": [
    "data = pd.read_pickle(\"./data/residuals_261.pkl\").item()\n",
    "    \n",
    "df = pd.DataFrame(data, columns = ['residuals','distances'])\n",
    "display(df)\n",
    "\n",
    "nbins = 150\n",
    "\n",
    "plt.figure()\n",
    "fig, axes = plt.subplots(1, 2 , figsize=(12, 6))\n",
    "axes[0].hist(df['residuals'], bins = nbins, range = (-5,5))\n",
    "axes[0].set_xlabel('Residuals')\n",
    "axes[0].set_title('Histogram of Residuals')\n",
    "\n",
    "bin_heights, bin_borders, _ = plt.hist(df[\"residuals\"], bins = nbins, range = (-5,5))\n",
    "bin_centers = (bin_borders[:-1] + bin_borders[1:])*0.5\n",
    "\n",
    "poisson_uncertainty = np.sqrt(np.abs(bin_heights))\n",
    "\n",
    "def gaussian(x, a, mu, sigma, o):\n",
    "    return a*np.exp(-(x-mu)**2/(2*sigma**2)) + o\n",
    "\n",
    "mu = np.mean(df[\"residuals\"])\n",
    "sigma = np.std(df[\"residuals\"])\n",
    "\n",
    "# Fit the gaussian function to the histogram\n",
    "params, params_covariance = optimize.curve_fit(gaussian, bin_centers, bin_heights, [max(df[\"residuals\"]), mu, sigma, 0])\n",
    "\n",
    "# Plot the fitted gaussian function\n",
    "axes[1].hist(df[\"residuals\"], bins = nbins, range = (-5,5), color =\"C0\")\n",
    "axes[1].plot(bin_centers, gaussian(bin_centers, *params), label = \"Gaussian Fit\", color =\"red\")\n",
    "axes[1].set_xlabel('Residuals')\n",
    "axes[1].set_title('Histogram of Residuals with Gaussian Fit')\n",
    "axes[1].legend()\n",
    "plt.show()\n",
    "\n",
    "# Calculate the chi-squared statistic\n",
    "chi_squared = np.sum((bin_heights - gaussian(bin_centers, *params))**2 / gaussian(bin_centers, *params))\n",
    "print(\"chi2 =\", chi_squared)\n",
    "\n",
    "# Calculate the p-value\n",
    "ndof = nbins - 1\n",
    "p_value = 1 - chi2.cdf(chi_squared, ndof)\n",
    "print(\"p-value: \", p_value)\n",
    "\n",
    "if(p_value < 0.05):\n",
    "    print(\"The fit is considered unsatisfactor\")\n",
    "else:\n",
    "    print(\"The fit is considered satisfactor\")"
   ]
  },
  {
   "cell_type": "code",
   "execution_count": null,
   "metadata": {},
   "outputs": [],
   "source": []
  },
  {
   "cell_type": "markdown",
   "metadata": {},
   "source": [
    "5\\. **Temperatures in Munich**\n",
    "\n",
    "Get the following data file:\n",
    "\n",
    "```bash\n",
    "https://www.dropbox.com/s/7gy9yjl00ymxb8h/munich_temperatures_average_with_bad_data.txt\n",
    "```\n",
    "\n",
    "which gives the temperature in Munich every day for several years.\n",
    "\n",
    "\n",
    "Fit the following function to the data:\n",
    "\n",
    "$$f(t) = a \\cos(2\\pi t + b)+c$$\n",
    "\n",
    "where $t$ is the time in years.\n",
    "\n",
    "- Make a plot of the data and the best-fit model in the range 2008 to 2012.\n",
    "\n",
    "   - What are the best-fit values of the parameters?\n",
    "\n",
    "   - What is the overall average temperature in Munich, and what are the typical daily average values predicted by the model for the coldest and hottest time of year?\n",
    "\n",
    "   - What is the meaning of the $b$ parameter, and what physical sense does it have?\n",
    "\n",
    "\n",
    "- Now fit the data with the function $g(x)$, which has 1 more parameter than $f(x)$.\n",
    "$$g(x) = a \\cos(2\\pi b t + c)+d$$\n",
    "   - What are the RSS for $f(x)$ and $g(x)$?\n",
    "   - Use the Fisher F-test to determine whether the additional parameter is motivated."
   ]
  },
  {
   "cell_type": "code",
   "execution_count": 10,
   "metadata": {},
   "outputs": [
    {
     "name": "stdout",
     "output_type": "stream",
     "text": [
      "--2023-01-19 17:25:50--  https://www.dropbox.com/s/7gy9yjl00ymxb8h/munich_temperatures_average_with_bad_data.txt\n",
      "Resolving www.dropbox.com (www.dropbox.com)... 162.125.69.18, 2620:100:6025:18::a27d:4512\n",
      "Connecting to www.dropbox.com (www.dropbox.com)|162.125.69.18|:443... connected.\n",
      "HTTP request sent, awaiting response... 302 Found\n",
      "Location: /s/raw/7gy9yjl00ymxb8h/munich_temperatures_average_with_bad_data.txt [following]\n",
      "--2023-01-19 17:25:51--  https://www.dropbox.com/s/raw/7gy9yjl00ymxb8h/munich_temperatures_average_with_bad_data.txt\n",
      "Reusing existing connection to www.dropbox.com:443.\n",
      "HTTP request sent, awaiting response... 302 Found\n",
      "Location: https://uc6397d6ccadc73378be916c9731.dl.dropboxusercontent.com/cd/0/inline/B01GxPRb0nF9aYHXWh_xRcEXlbWkj-u-zv1KGFqaIG0dLtVFp0qN49sKX9cgPRPL-djaVN2X7GjzJulY_xY_N8Plw5kB1hFZ1faJW0tmuYfVtDBo-WoJaOVQ0SdlMHe-l1zp6ymv5iJxkRos3iCF4Y0ZsBIIgDLFOpXT4Idu2xLI7Q/file# [following]\n",
      "--2023-01-19 17:25:52--  https://uc6397d6ccadc73378be916c9731.dl.dropboxusercontent.com/cd/0/inline/B01GxPRb0nF9aYHXWh_xRcEXlbWkj-u-zv1KGFqaIG0dLtVFp0qN49sKX9cgPRPL-djaVN2X7GjzJulY_xY_N8Plw5kB1hFZ1faJW0tmuYfVtDBo-WoJaOVQ0SdlMHe-l1zp6ymv5iJxkRos3iCF4Y0ZsBIIgDLFOpXT4Idu2xLI7Q/file\n",
      "Resolving uc6397d6ccadc73378be916c9731.dl.dropboxusercontent.com (uc6397d6ccadc73378be916c9731.dl.dropboxusercontent.com)... 162.125.69.15, 2620:100:6025:15::a27d:450f\n",
      "Connecting to uc6397d6ccadc73378be916c9731.dl.dropboxusercontent.com (uc6397d6ccadc73378be916c9731.dl.dropboxusercontent.com)|162.125.69.15|:443... connected.\n",
      "HTTP request sent, awaiting response... 200 OK\n",
      "Length: 125482 (123K) [text/plain]\n",
      "Saving to: ‘data_ex11/munich_temperatures_average_with_bad_data.txt’\n",
      "\n",
      "munich_temperatures 100%[===================>] 122,54K  --.-KB/s    in 0,1s    \n",
      "\n",
      "2023-01-19 17:25:52 (1,01 MB/s) - ‘data_ex11/munich_temperatures_average_with_bad_data.txt’ saved [125482/125482]\n",
      "\n"
     ]
    }
   ],
   "source": [
    "!wget https://www.dropbox.com/s/7gy9yjl00ymxb8h/munich_temperatures_average_with_bad_data.txt -P data_ex11/"
   ]
  },
  {
   "cell_type": "code",
   "execution_count": 13,
   "metadata": {},
   "outputs": [
    {
     "data": {
      "image/png": "[encoded data removed]",
      "text/plain": [
       "<Figure size 432x288 with 1 Axes>"
      ]
     },
     "metadata": {
      "needs_background": "light"
     },
     "output_type": "display_data"
    },
    {
     "data": {
      "image/png": "[encoded data removed]",
      "text/plain": [
       "<Figure size 432x288 with 1 Axes>"
      ]
     },
     "metadata": {
      "needs_background": "light"
     },
     "output_type": "display_data"
    }
   ],
   "source": [
    "data = pd.read_csv('data_ex11/munich_temperatures_average_with_bad_data.txt', sep=' ', names = ['years', 'temp'] )\n",
    "data = data[(data['years']>2008) & (data['years']<2012)]\n",
    "\n",
    "def f_x(t, a, c, d):\n",
    "    return a * np.cos(2 * np.pi * t + c) + d\n",
    "\n",
    "def g_x(t, a, b, c, d):\n",
    "    return a * np.cos(2 * np.pi * t * b + c) + d\n",
    "\n",
    "\n",
    "time = data['years']\n",
    "temperature = data['temp']\n",
    "\n",
    "opt_f, cov_f = optimize.curve_fit(f_x, time, temperature, p0=[1, 1, 1])\n",
    "\n",
    "plt.title('f(x)')\n",
    "plt.scatter(time, temperature, label = 'data')\n",
    "plt.plot(time,\n",
    "         f_x(time, opt_f[0], opt_f[1], opt_f[2]),\n",
    "         label='f(x) fit',\n",
    "         color='red')\n",
    "\n",
    "plt.legend()\n",
    "plt.show()\n",
    "\n",
    "opt_g, cov_g = optimize.curve_fit(g_x, time, temperature, p0=[1, 1, 1, 1])\n",
    "plt.title('g(x)')\n",
    "plt.scatter(time, temperature, label = 'data')\n",
    "plt.plot(time, f_x(time, opt_f[0], opt_f[1], opt_f[2]), label = 'f(x) fit', color = 'red')\n",
    "plt.plot(time, g_x(time, opt_g[0], opt_g[1], opt_g[2], opt_g[3]), label = 'g(x) fit', color = 'green', ls='--')\n",
    "plt.legend()\n",
    "plt.show()"
   ]
  },
  {
   "cell_type": "code",
   "execution_count": null,
   "metadata": {},
   "outputs": [],
   "source": []
  }
 ],
 "metadata": {
  "kernelspec": {
   "display_name": "Python 3",
   "language": "python",
   "name": "python3"
  },
  "language_info": {
   "codemirror_mode": {
    "name": "ipython",
    "version": 3
   },
   "file_extension": ".py",
   "mimetype": "text/x-python",
   "name": "python",
   "nbconvert_exporter": "python",
   "pygments_lexer": "ipython3",
   "version": "3.8.10"
  }
 },
 "nbformat": 4,
 "nbformat_minor": 2
}
