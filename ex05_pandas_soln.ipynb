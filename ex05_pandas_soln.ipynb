{
 "cells": [
  {
   "cell_type": "markdown",
   "metadata": {},
   "source": [
    "1\\. **Pandas DataFrame**\n",
    "\n",
    "This exercise consists in analyzing a dataset containg timing information from a series of Time-to-Digital-Converters (TDC) implemented in a pair of FPGAs. Each measurement (i.e. each row of the input file) consists of a flag that specifies the type of message ('HEAD', which in this case is always 1), two addresses of the TDC providing the signal ('FPGA' and 'TDC_CHANNEL'), and the timing information ('ORBIT_CNT', 'BX_COUNTER', and 'TDC_MEAS'). Each TDC count corresponds to 25/30 ns, whereas a unit of BX_COUNTER corresponds to 25 ns, and the ORBIT_CNT is increased every `x` BX_COUNTER. This allows to store the time in a similar way to hours, minutes and seconds."
   ]
  },
  {
   "cell_type": "code",
   "execution_count": 1,
   "metadata": {},
   "outputs": [
    {
     "name": "stdout",
     "output_type": "stream",
     "text": [
      "--2022-11-11 21:11:19--  https://www.dropbox.com/s/xvjzaxzz3ysphme/data_000637.txt\n",
      "Resolving www.dropbox.com (www.dropbox.com)... 162.125.69.18, 2620:100:6025:18::a27d:4512\n",
      "Connecting to www.dropbox.com (www.dropbox.com)|162.125.69.18|:443... connected.\n",
      "HTTP request sent, awaiting response... 302 Found\n",
      "Location: /s/raw/xvjzaxzz3ysphme/data_000637.txt [following]\n",
      "--2022-11-11 21:11:19--  https://www.dropbox.com/s/raw/xvjzaxzz3ysphme/data_000637.txt\n",
      "Reusing existing connection to www.dropbox.com:443.\n",
      "HTTP request sent, awaiting response... 302 Found\n",
      "Location: https://uc31eb0e3413a235dc017c058d44.dl.dropboxusercontent.com/cd/0/inline/BwmOKcln_dZYUZp9caDlcUYdSkdhRp_Q1LOKkk3amDwaHuFSM6FfQuBPLMcFFAmYZTqhcFeJXYndJJv5BlL_Dm-QmNm51eUbVB-zFj0vDHrDN5uG8Bs1sQX4PtVKDZ1Vap-sQt1TbwW4WLgICaNTuf0C_URq2W4k06LY3EkoDqA09g/file# [following]\n",
      "--2022-11-11 21:11:19--  https://uc31eb0e3413a235dc017c058d44.dl.dropboxusercontent.com/cd/0/inline/BwmOKcln_dZYUZp9caDlcUYdSkdhRp_Q1LOKkk3amDwaHuFSM6FfQuBPLMcFFAmYZTqhcFeJXYndJJv5BlL_Dm-QmNm51eUbVB-zFj0vDHrDN5uG8Bs1sQX4PtVKDZ1Vap-sQt1TbwW4WLgICaNTuf0C_URq2W4k06LY3EkoDqA09g/file\n",
      "Resolving uc31eb0e3413a235dc017c058d44.dl.dropboxusercontent.com (uc31eb0e3413a235dc017c058d44.dl.dropboxusercontent.com)... 162.125.69.15, 2620:100:6025:15::a27d:450f\n",
      "Connecting to uc31eb0e3413a235dc017c058d44.dl.dropboxusercontent.com (uc31eb0e3413a235dc017c058d44.dl.dropboxusercontent.com)|162.125.69.15|:443... connected.\n",
      "HTTP request sent, awaiting response... 200 OK\n",
      "Length: 33179236 (32M) [text/plain]\n",
      "Saving to: ‘./data/data_000637.txt.1’\n",
      "\n",
      "data_000637.txt.1   100%[===================>]  31,64M  6,98MB/s    in 4,5s    \n",
      "\n",
      "2022-11-11 21:11:25 (6,96 MB/s) - ‘./data/data_000637.txt.1’ saved [33179236/33179236]\n",
      "\n"
     ]
    }
   ],
   "source": [
    "# If haven't downloaded it yet, please get the data file with wget\n",
    "!wget https://www.dropbox.com/s/xvjzaxzz3ysphme/data_000637.txt -P ./data/"
   ]
  },
  {
   "cell_type": "markdown",
   "metadata": {},
   "source": [
    "1\\. Create a Pandas DataFrame reading N rows of the `data/data_000637.txt` dataset. Choose N to be smaller than or equal to the maximum number of rows and larger that 10k (check the documentation)."
   ]
  },
  {
   "cell_type": "code",
   "execution_count": 2,
   "metadata": {},
   "outputs": [
    {
     "name": "stdout",
     "output_type": "stream",
     "text": [
      "         HEAD  FPGA  TDC_CHANNEL   ORBIT_CNT  BX_COUNTER  TDC_MEAS\n",
      "0           1     0          123  3869200167        2374        26\n",
      "1           1     0          124  3869200167        2374        27\n",
      "2           1     0           63  3869200167        2553        28\n",
      "3           1     0           64  3869200167        2558        19\n",
      "4           1     0           64  3869200167        2760        25\n",
      "...       ...   ...          ...         ...         ...       ...\n",
      "1310715     1     0           62  3869211171         762        14\n",
      "1310716     1     1            4  3869211171         763        11\n",
      "1310717     1     0           64  3869211171         764         0\n",
      "1310718     1     0          139  3869211171         769         0\n",
      "1310719     1     0           61  3869211171         762        18\n",
      "\n",
      "[1310720 rows x 6 columns]\n"
     ]
    }
   ],
   "source": [
    "import numpy as np\n",
    "import pandas as pd\n",
    "\n",
    "file_name = \"data/data_000637.txt\"\n",
    "idx = len(open(file_name).readlines())\n",
    "N = max(10000, idx)\n",
    "df = pd.read_csv(file_name, nrows=N)\n",
    "print(df)"
   ]
  },
  {
   "cell_type": "markdown",
   "metadata": {},
   "source": [
    "2\\. Estimate the number of BX in a ORBIT (the value `x`).\n",
    "\n",
    "*Hint*: check when the BX counter reaches the maximum value before being reset to 0."
   ]
  },
  {
   "cell_type": "code",
   "execution_count": 3,
   "metadata": {},
   "outputs": [
    {
     "name": "stdout",
     "output_type": "stream",
     "text": [
      "Maximum number of BX is: 3563\n"
     ]
    }
   ],
   "source": [
    "x = df[\"BX_COUNTER\"].max()\n",
    "print(\"Maximum number of BX is: \" + str(x))"
   ]
  },
  {
   "cell_type": "code",
   "execution_count": null,
   "metadata": {},
   "outputs": [],
   "source": []
  },
  {
   "cell_type": "markdown",
   "metadata": {},
   "source": [
    "3\\. Create a new column with the absolute time in ns (as a combination of the other three columns with timing information) since the beginning of the data acquisition, and convert the new column to a Time Series."
   ]
  },
  {
   "cell_type": "code",
   "execution_count": 4,
   "metadata": {},
   "outputs": [
    {
     "name": "stdout",
     "output_type": "stream",
     "text": [
      "New dataset: \n",
      "\n",
      "         HEAD  FPGA  TDC_CHANNEL   ORBIT_CNT  BX_COUNTER  TDC_MEAS  \\\n",
      "0           1     0          123  3869200167        2374        26   \n",
      "1           1     0          124  3869200167        2374        27   \n",
      "2           1     0           63  3869200167        2553        28   \n",
      "3           1     0           64  3869200167        2558        19   \n",
      "4           1     0           64  3869200167        2760        25   \n",
      "...       ...   ...          ...         ...         ...       ...   \n",
      "1310715     1     0           62  3869211171         762        14   \n",
      "1310716     1     1            4  3869211171         763        11   \n",
      "1310717     1     0           64  3869211171         764         0   \n",
      "1310718     1     0          139  3869211171         769         0   \n",
      "1310719     1     0           61  3869211171         762        18   \n",
      "\n",
      "          ABS_TIME_NS  \n",
      "0        3.446490e+14  \n",
      "1        3.446490e+14  \n",
      "2        3.446490e+14  \n",
      "3        3.446490e+14  \n",
      "4        3.446490e+14  \n",
      "...               ...  \n",
      "1310715  3.446500e+14  \n",
      "1310716  3.446500e+14  \n",
      "1310717  3.446500e+14  \n",
      "1310718  3.446500e+14  \n",
      "1310719  3.446500e+14  \n",
      "\n",
      "[1310720 rows x 7 columns]\n",
      "The time series are:\n",
      " 0         1970-01-04 23:44:09.004934896\n",
      "1         1970-01-04 23:44:09.004934897\n",
      "2         1970-01-04 23:44:09.004939373\n",
      "3         1970-01-04 23:44:09.004939490\n",
      "4         1970-01-04 23:44:09.004944545\n",
      "                       ...             \n",
      "1310715   1970-01-04 23:44:09.985075886\n",
      "1310716   1970-01-04 23:44:09.985075909\n",
      "1310717   1970-01-04 23:44:09.985075925\n",
      "1310718   1970-01-04 23:44:09.985076050\n",
      "1310719   1970-01-04 23:44:09.985075890\n",
      "Name: ABS_TIME_NS, Length: 1310720, dtype: datetime64[ns]\n"
     ]
    }
   ],
   "source": [
    "import datetime\n",
    "\n",
    "abs_times = []\n",
    "\n",
    "for i, row in df.iterrows():\n",
    "    timing = row[\"ORBIT_CNT\"]*x*25 + row[\"BX_COUNTER\"]*25 + row[\"TDC_MEAS\"]*(25/30)\n",
    "    abs_times.append(timing)\n",
    "    \n",
    "    \n",
    "df[\"ABS_TIME_NS\"] = abs_times\n",
    "print(\"New dataset: \" + \"\\n\")\n",
    "print(df)\n",
    "\n",
    "time_series = pd.to_datetime(df[\"ABS_TIME_NS\"], unit=\"ns\")\n",
    "print(\"The time series are\" + \":\\n\", time_series)"
   ]
  },
  {
   "cell_type": "code",
   "execution_count": null,
   "metadata": {},
   "outputs": [],
   "source": []
  },
  {
   "cell_type": "markdown",
   "metadata": {},
   "source": [
    "4\\. Find out the duration of the data taking in hours, minutes and seconds, by using the features of the Time Series. Perform this check reading the whole dataset."
   ]
  },
  {
   "cell_type": "code",
   "execution_count": 5,
   "metadata": {},
   "outputs": [
    {
     "name": "stdout",
     "output_type": "stream",
     "text": [
      "Duration of the data taking in hours is: \n",
      "          HEAD  FPGA  TDC_CHANNEL   ORBIT_CNT  BX_COUNTER  TDC_MEAS  \\\n",
      "0           1     0          123  3869200167        2374        26   \n",
      "1           1     0          124  3869200167        2374        27   \n",
      "2           1     0           63  3869200167        2553        28   \n",
      "3           1     0           64  3869200167        2558        19   \n",
      "4           1     0           64  3869200167        2760        25   \n",
      "...       ...   ...          ...         ...         ...       ...   \n",
      "1310715     1     0           62  3869211171         762        14   \n",
      "1310716     1     1            4  3869211171         763        11   \n",
      "1310717     1     0           64  3869211171         764         0   \n",
      "1310718     1     0          139  3869211171         769         0   \n",
      "1310719     1     0           61  3869211171         762        18   \n",
      "\n",
      "          ABS_TIME_NS               ABS_TIME  \n",
      "0        3.446490e+14 3 days 23:44:09.004934  \n",
      "1        3.446490e+14 3 days 23:44:09.004934  \n",
      "2        3.446490e+14 3 days 23:44:09.004939  \n",
      "3        3.446490e+14 3 days 23:44:09.004939  \n",
      "4        3.446490e+14 3 days 23:44:09.004944  \n",
      "...               ...                    ...  \n",
      "1310715  3.446500e+14 3 days 23:44:09.985075  \n",
      "1310716  3.446500e+14 3 days 23:44:09.985075  \n",
      "1310717  3.446500e+14 3 days 23:44:09.985075  \n",
      "1310718  3.446500e+14 3 days 23:44:09.985076  \n",
      "1310719  3.446500e+14 3 days 23:44:09.985075  \n",
      "\n",
      "[1310720 rows x 8 columns]\n"
     ]
    }
   ],
   "source": [
    "df[\"ABS_TIME\"] = pd.to_timedelta(abs_times)\n",
    "print(\"Duration of the data taking in hours is: \" + \"\\n\", df) "
   ]
  },
  {
   "cell_type": "code",
   "execution_count": null,
   "metadata": {},
   "outputs": [],
   "source": []
  },
  {
   "cell_type": "markdown",
   "metadata": {},
   "source": [
    "5\\. Use the `.groupby()` method to find out the noisy channels, i.e. the TDC channels with most counts (print to screen the top 3 and the corresponding counts)"
   ]
  },
  {
   "cell_type": "code",
   "execution_count": 6,
   "metadata": {},
   "outputs": [
    {
     "name": "stdout",
     "output_type": "stream",
     "text": [
      "Noisy channels are: \n",
      " TDC_CHANNEL\n",
      "139    108059\n",
      "64      66020\n",
      "63      64642\n",
      "dtype: int64\n"
     ]
    }
   ],
   "source": [
    "noise = df.groupby(\"TDC_CHANNEL\").size().sort_values(ascending=False)\n",
    "noise = noise.iloc[[0,1,2]]\n",
    "print(\"Noisy channels are: \" + \"\\n\", noise)"
   ]
  },
  {
   "cell_type": "code",
   "execution_count": null,
   "metadata": {},
   "outputs": [],
   "source": []
  },
  {
   "cell_type": "markdown",
   "metadata": {},
   "source": [
    "6\\. Count the number of non-empty orbits (i.e. the number of orbits with at least one hit)."
   ]
  },
  {
   "cell_type": "code",
   "execution_count": 7,
   "metadata": {},
   "outputs": [
    {
     "name": "stdout",
     "output_type": "stream",
     "text": [
      "The number of non-empty orbits:  11001\n"
     ]
    }
   ],
   "source": [
    "cnt = df.groupby(\"ORBIT_CNT\").count()\n",
    "print(\"The number of non-empty orbits: \", len(cnt))"
   ]
  },
  {
   "cell_type": "code",
   "execution_count": null,
   "metadata": {},
   "outputs": [],
   "source": []
  },
  {
   "cell_type": "markdown",
   "metadata": {},
   "source": [
    "7\\. Count the number of unique orbits with at least one measurement from TDC_CHANNEL=139."
   ]
  },
  {
   "cell_type": "code",
   "execution_count": 8,
   "metadata": {},
   "outputs": [
    {
     "name": "stdout",
     "output_type": "stream",
     "text": [
      "The number of unique orbits with at least one measurement from TDC_CHANNEL=139:  10976\n"
     ]
    }
   ],
   "source": [
    "cond = df[df[\"TDC_CHANNEL\"] == 139][\"ORBIT_CNT\"].unique()\n",
    "print(\"The number of unique orbits with at least one measurement from TDC_CHANNEL=139: \", len(cond))"
   ]
  },
  {
   "cell_type": "code",
   "execution_count": null,
   "metadata": {},
   "outputs": [],
   "source": []
  },
  {
   "cell_type": "markdown",
   "metadata": {},
   "source": [
    "8\\. Create two Series (one for each FPGA) that have the TDC channel as index, and the number of counts for the corresponding TDC channel as values."
   ]
  },
  {
   "cell_type": "code",
   "execution_count": 9,
   "metadata": {},
   "outputs": [
    {
     "name": "stdout",
     "output_type": "stream",
     "text": [
      "FPGA_0: \n",
      " TDC_CHANNEL\n",
      "1       1215\n",
      "2       1602\n",
      "3       1493\n",
      "4       2352\n",
      "5       1432\n",
      "       ...  \n",
      "129        2\n",
      "130       33\n",
      "137       32\n",
      "138       34\n",
      "139    75617\n",
      "Length: 124, dtype: int64\n",
      "FPGA_1: \n",
      " TDC_CHANNEL\n",
      "1      28438\n",
      "2      32669\n",
      "3      21970\n",
      "4      26403\n",
      "5      15003\n",
      "       ...  \n",
      "129       35\n",
      "130       38\n",
      "137       36\n",
      "138       36\n",
      "139    32442\n",
      "Length: 132, dtype: int64\n"
     ]
    }
   ],
   "source": [
    "FPGA_0 = df[df[\"FPGA\"] == 0]\n",
    "FPGA_1 = df[df[\"FPGA\"] == 1]\n",
    "\n",
    "print(\"FPGA_0: \" + \"\\n\", pd.Series(FPGA_0.groupby(\"TDC_CHANNEL\").size()))\n",
    "print(\"FPGA_1: \" + \"\\n\", pd.Series(FPGA_1.groupby(\"TDC_CHANNEL\").size()))"
   ]
  },
  {
   "cell_type": "code",
   "execution_count": null,
   "metadata": {},
   "outputs": [],
   "source": []
  },
  {
   "cell_type": "markdown",
   "metadata": {},
   "source": [
    "9\\. **Optional:** Create two histograms (one for each FPGA) that show the number of counts for each TDC channel."
   ]
  },
  {
   "cell_type": "code",
   "execution_count": 10,
   "metadata": {},
   "outputs": [
    {
     "data": {
      "text/plain": [
       "Text(0, 0.5, 'Count')"
      ]
     },
     "execution_count": 10,
     "metadata": {},
     "output_type": "execute_result"
    },
    {
     "data": {
      "image/png": "[encoded data removed]",
      "text/plain": [
       "<Figure size 432x288 with 1 Axes>"
      ]
     },
     "metadata": {
      "needs_background": "light"
     },
     "output_type": "display_data"
    },
    {
     "data": {
      "image/png": "[encoded data removed]",
      "text/plain": [
       "<Figure size 432x288 with 1 Axes>"
      ]
     },
     "metadata": {
      "needs_background": "light"
     },
     "output_type": "display_data"
    }
   ],
   "source": [
    "import matplotlib.pyplot as plt\n",
    "\n",
    "FPGA_0.hist(column = \"TDC_CHANNEL\")\n",
    "plt.title(\"FPGA = 0\")\n",
    "plt.xlabel(\"TDC channel\")\n",
    "plt.ylabel(\"Count\")\n",
    "\n",
    "FPGA_1.hist(column = \"TDC_CHANNEL\")\n",
    "plt.title(\"FPGA = 1\")\n",
    "plt.xlabel(\"TDC channel\")\n",
    "plt.ylabel(\"Count\")"
   ]
  },
  {
   "cell_type": "code",
   "execution_count": null,
   "metadata": {},
   "outputs": [],
   "source": []
  }
 ],
 "metadata": {
  "kernelspec": {
   "display_name": "Python 3",
   "language": "python",
   "name": "python3"
  },
  "language_info": {
   "codemirror_mode": {
    "name": "ipython",
    "version": 3
   },
   "file_extension": ".py",
   "mimetype": "text/x-python",
   "name": "python",
   "nbconvert_exporter": "python",
   "pygments_lexer": "ipython3",
   "version": "3.8.10"
  }
 },
 "nbformat": 4,
 "nbformat_minor": 2
}
